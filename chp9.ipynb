{
 "cells": [
  {
   "cell_type": "code",
   "execution_count": 2,
   "metadata": {},
   "outputs": [],
   "source": [
    "run chapter9.py"
   ]
  },
  {
   "cell_type": "code",
   "execution_count": 13,
   "metadata": {},
   "outputs": [
    {
     "data": {
      "text/plain": [
       "1"
      ]
     },
     "execution_count": 13,
     "metadata": {},
     "output_type": "execute_result"
    }
   ],
   "source": [
    "workbook.nsheets"
   ]
  },
  {
   "cell_type": "code",
   "execution_count": 11,
   "metadata": {},
   "outputs": [
    {
     "data": {
      "text/plain": [
       "['Child labour  ']"
      ]
     },
     "execution_count": 11,
     "metadata": {},
     "output_type": "execute_result"
    }
   ],
   "source": [
    "workbook.sheet_names()"
   ]
  },
  {
   "cell_type": "code",
   "execution_count": 15,
   "metadata": {},
   "outputs": [
    {
     "name": "stdout",
     "output_type": "stream",
     "text": [
      "0 [text:'UNICEF global databases', empty:'', empty:'', empty:'', empty:'', empty:'', empty:'', empty:'', empty:'', empty:'', empty:'', empty:'', empty:'', empty:'']\n",
      "1 [text:'Child labour', empty:'', empty:'', empty:'', empty:'', empty:'', empty:'', empty:'', empty:'', empty:'', empty:'', empty:'', empty:'', empty:'']\n",
      "2 [text:'Updated November 2014', empty:'', empty:'', empty:'', empty:'', empty:'', empty:'', empty:'', empty:'', empty:'', empty:'', empty:'', empty:'', empty:'']\n",
      "3 [empty:'', empty:'', empty:'', empty:'', empty:'', empty:'', empty:'', empty:'', empty:'', empty:'', empty:'', empty:'', empty:'', empty:'']\n",
      "4 [empty:'', text:'Total (%)', empty:'', text:'Sex (%)', empty:'', text:'Place of residence (%)', empty:'', text:'Household wealth quintile (%)', empty:'', empty:'', empty:'', empty:'', text:'Reference Year', text:'Data Source']\n",
      "5 [text:'Countries and areas', empty:'', empty:'', text:'Male', text:'Female', text:'Urban', text:'Rural', text:'Poorest', text:'Second', text:'Middle', text:'Fourth', text:'Richest', empty:'', empty:'']\n",
      "6 [text:'Afghanistan', number:10.3, empty:'', number:11.0, number:9.6, number:7.9, number:10.8, number:11.9, number:11.8, number:10.1, number:9.7, number:7.8, text:'2010-2011', text:'MICS']\n",
      "7 [text:'Albania', number:5.1, text:'y', number:6.2, number:3.9, text:'-', text:'-', text:'-', text:'-', text:'-', text:'-', text:'-', number:2010.0, text:'National Child Labour Survey']\n",
      "8 [text:'Algeria', number:4.7, text:'y', number:5.5, number:3.9, number:3.9, number:5.6, number:7.3, number:4.5, number:4.1, number:3.1, number:3.8, number:2006.0, text:'MICS']\n",
      "9 [text:'Angola', number:23.5, empty:'', number:22.1, number:24.8, text:'-', text:'-', text:'-', text:'-', text:'-', text:'-', text:'-', number:2001.0, text:'MICS']\n",
      "10 [text:'Argentina', number:4.4, empty:'', number:4.8, number:3.9, text:'-', text:'-', number:6.8, number:3.9, number:3.3, number:3.7, number:3.1, text:'2011/2012', text:'MICS']\n",
      "11 [text:'Armenia', number:3.9, empty:'', number:4.7, number:2.9, number:2.4, number:6.0, number:6.9, number:4.1, number:3.2, number:2.4, number:2.4, number:2010.0, text:'ARM_DHS _2010']\n",
      "12 [text:'Azerbaijan', number:6.5, text:'y', number:7.5, number:5.4, number:2.1, number:10.7, text:'-', text:'-', text:'-', text:'-', text:'-', number:2005.0, text:'Dayioglu, Meltem. 2007. Working children in Azerbaijan: An analysis of the 2005 child labour and labouring children surveys. State Statistical Committee of Azerbaijan and ILO']\n",
      "13 [text:'Bahrain', number:4.6, empty:'', number:6.3, number:3.0, text:'-', text:'-', text:'-', text:'-', text:'-', text:'-', text:'-', number:2000.0, text:'MICS']\n",
      "14 [text:'Bangladesh', number:12.8, empty:'', number:17.5, number:8.1, number:11.2, number:13.4, number:16.0, number:14.7, number:13.0, number:10.5, number:8.2, number:2006.0, text:'MICS']\n",
      "15 [text:'Belarus', number:1.4, empty:'', number:1.4, number:1.5, number:1.3, number:1.8, number:1.0, number:2.4, number:1.2, number:1.7, number:1.0, number:2012.0, text:'MICS']\n",
      "16 [text:'Belize', number:5.8, empty:'', number:6.7, number:5.0, number:3.2, number:7.4, number:8.4, number:8.4, number:4.9, number:2.8, number:3.1, number:2011.0, text:'MICS']\n",
      "17 [text:'Benin', number:15.3, empty:'', number:14.9, number:15.6, number:10.5, number:18.1, number:19.6, number:19.9, number:16.8, number:10.9, number:6.0, text:'2011-2012', text:'DHS']\n",
      "18 [text:'Bhutan', number:2.9, empty:'', number:2.6, number:3.1, number:1.7, number:3.3, number:4.5, number:3.2, number:2.2, number:2.4, number:2.2, number:2010.0, text:'MICS']\n",
      "19 [text:'Bolivia (Plurinational State of)', number:26.4, text:'y', number:28.2, number:24.4, number:15.1, number:64.6, text:'-', text:'-', text:'-', text:'-', text:'-', number:2008.0, text:'ETI']\n",
      "20 [text:'Bosnia and Herzegovina', number:5.3, empty:'', number:6.6, number:3.9, number:3.2, number:6.4, number:4.5, number:11.1, number:5.0, number:2.8, number:3.6, number:2006.0, text:'MICS']\n",
      "21 [text:'Botswana', number:9.0, text:'y', number:10.9, number:7.0, number:11.3, number:12.6, text:'-', text:'-', text:'-', text:'-', text:'-', text:'2005-2006', text:'Botswana Labour Force Survey']\n",
      "22 [text:'Brazil', number:8.3, text:'y', number:10.6, number:6.0, text:'-', text:'-', text:'-', text:'-', text:'-', text:'-', text:'-', number:2012.0, text:'IBGE PNAD']\n",
      "23 [text:'Burkina Faso', number:39.2, empty:'', number:42.3, number:36.0, number:17.3, number:44.0, number:48.0, number:44.6, number:42.5, number:37.9, number:18.1, number:2010.0, text:'DHS']\n",
      "24 [text:'Burundi', number:26.3, empty:'', number:25.5, number:27.1, number:14.5, number:27.4, number:26.8, number:28.0, number:28.4, number:26.8, number:21.1, number:2010.0, text:'DHS']\n",
      "25 [text:'Cabo Verde', number:6.4, text:'y', text:'-', text:'-', text:'-', text:'-', text:'-', text:'-', text:'-', text:'-', text:'-', number:2012.0, text:'Inquerito Multi-Objectivo Continuo (prelim)']\n",
      "26 [text:'Cambodia', number:18.3, text:'y', number:19.2, number:17.4, text:'-', text:'-', text:'-', text:'-', text:'-', text:'-', text:'-', number:2013.0, text:'CSES']\n",
      "27 [text:'Cameroon', number:41.7, empty:'', number:43.1, number:40.2, number:27.2, number:52.8, number:55.9, number:52.9, number:42.5, number:31.9, number:17.6, number:2011.0, text:'DHS']\n",
      "28 [text:'Central African Republic', number:28.5, empty:'', number:27.2, number:29.9, number:21.2, number:33.0, number:35.8, number:36.0, number:32.2, number:21.8, number:17.0, number:2010.0, text:'MICS']\n",
      "29 [text:'Chad', number:26.1, empty:'', number:24.5, number:27.8, number:23.6, number:26.8, number:27.0, number:26.1, number:28.4, number:27.2, number:21.5, number:2010.0, text:'MICS']\n",
      "30 [text:'Chile', number:6.6, text:'y', text:'-', text:'-', text:'-', text:'-', text:'-', text:'-', text:'-', text:'-', text:'-', number:2012.0, text:'EANNA']\n",
      "31 [text:'Colombia', number:9.7, text:'y', number:12.5, number:6.6, number:7.4, number:15.8, text:'-', text:'-', text:'-', text:'-', text:'-', number:2013.0, text:'ENTI']\n",
      "32 [text:'Comoros', number:22.0, empty:'', number:20.2, number:23.8, number:16.5, number:24.3, number:29.6, number:25.1, number:20.8, number:18.4, number:10.8, number:2012.0, text:'DHS']\n",
      "33 [text:'Congo', number:18.4, empty:'', number:17.7, number:19.0, number:13.5, number:25.7, number:29.1, number:21.9, number:13.4, number:15.9, number:9.5, text:'2011-2012', text:'DHS']\n",
      "34 [text:'Costa Rica', number:4.1, empty:'', number:3.5, number:4.6, number:4.0, number:4.2, number:6.2, number:3.0, number:2.2, number:4.7, number:3.6, number:2011.0, text:'MICS']\n",
      "35 [text:\"Côte d'Ivoire\", number:26.4, empty:'', number:25.4, number:27.5, number:15.6, number:33.9, number:36.9, number:30.2, number:30.3, number:20.4, number:12.5, text:'2011-2012', text:'DHS']\n",
      "36 [text:'Democratic Republic of the Congo', number:15.0, empty:'', number:13.1, number:16.8, number:10.3, number:16.9, number:16.3, number:16.2, number:15.9, number:16.9, number:9.2, number:2010.0, text:'MICS']\n",
      "37 [text:'Djibouti', number:7.7, empty:'', number:7.6, number:7.7, number:7.6, number:9.7, text:'-', text:'-', text:'-', text:'-', text:'-', number:2006.0, text:'MICS']\n",
      "38 [text:'Dominican Republic', number:12.9, empty:'', number:17.5, number:7.9, number:10.6, number:17.1, number:18.5, number:17.6, number:10.4, number:10.1, number:5.1, text:'2009-2010', text:'ENHOGAR']\n",
      "39 [text:'Ecuador', number:8.6, text:'y', text:'-', text:'-', number:4.3, number:15.5, text:'-', text:'-', text:'-', text:'-', text:'-', number:2012.0, text:'ENTI']\n",
      "40 [text:'Egypt', number:9.3, text:'y', number:14.3, number:4.0, text:'-', text:'-', text:'-', text:'-', text:'-', text:'-', text:'-', number:2010.0, text:'National Child Labour Survey']\n",
      "41 [text:'El Salvador', number:8.5, text:'y', number:12.7, number:4.2, number:5.7, number:12.4, number:8.2, number:6.7, number:8.1, number:9.9, number:9.3, number:2013.0, text:'EHPM']\n",
      "42 [text:'Equatorial Guinea', number:27.8, empty:'', number:27.9, number:27.6, text:'-', text:'-', text:'-', text:'-', text:'-', text:'-', text:'-', number:2000.0, text:'MICS']\n",
      "43 [text:'Ethiopia', number:27.4, empty:'', number:31.1, number:23.5, number:13.3, number:29.7, number:31.3, number:30.8, number:30.2, number:27.0, number:14.7, number:2011.0, text:'DHS']\n",
      "44 [text:'Gabon', number:13.4, empty:'', number:15.4, number:11.6, number:11.0, number:26.6, number:26.4, number:12.5, number:12.3, number:7.9, number:7.5, number:2012.0, text:'DHS']\n",
      "45 [text:'Gambia', number:19.2, empty:'', number:20.9, number:17.5, number:9.5, number:26.0, number:28.1, number:20.7, number:18.8, number:16.6, number:8.6, number:2010.0, text:'MICS']\n",
      "46 [text:'Georgia', number:18.4, empty:'', number:20.0, number:16.6, number:16.1, number:20.4, number:17.8, number:21.5, number:19.7, number:17.8, number:15.0, number:2005.0, text:'MICS']\n",
      "47 [text:'Ghana', number:33.9, empty:'', number:33.8, number:34.0, number:19.7, number:42.5, number:47.9, number:46.1, number:30.8, number:24.0, number:13.7, number:2006.0, text:'MICS']\n",
      "48 [text:'Guatemala', number:25.8, text:'y', number:35.1, number:16.1, number:20.7, number:32.6, text:'-', text:'-', text:'-', text:'-', text:'-', number:2012.0, text:'ENEI']\n",
      "49 [text:'Guinea', number:28.3, empty:'', number:29.2, number:27.4, number:11.9, number:35.2, number:40.0, number:34.3, number:32.3, number:22.6, number:8.8, number:2012.0, text:'DHS']\n",
      "50 [text:'Guinea-Bissau', number:38.0, empty:'', number:39.5, number:36.4, number:23.0, number:47.6, number:50.7, number:48.7, number:41.7, number:23.4, number:15.4, number:2010.0, text:'MICS']\n",
      "51 [text:'Guyana', number:16.4, empty:'', number:17.3, number:15.5, number:9.0, number:19.0, number:29.4, number:17.3, number:13.1, number:11.5, number:3.9, number:2006.0, text:'MICS']\n",
      "52 [text:'Haiti', number:24.4, empty:'', number:24.5, number:24.3, number:15.8, number:29.2, number:33.7, number:29.9, number:23.8, number:18.5, number:10.6, number:2012.0, text:'DHS']\n",
      "53 [text:'Honduras', number:14.0, text:'y', number:22.1, number:5.9, number:9.1, number:17.1, text:'-', text:'-', text:'-', text:'-', text:'-', number:2013.0, text:'Encuesta Permanente de Hogares de Propositos Multiples, UCW calculations']\n",
      "54 [text:'India', number:11.8, empty:'', number:11.6, number:11.9, number:8.6, number:12.9, number:14.2, number:14.0, number:12.2, number:9.3, number:6.4, text:'2005-2006', text:'NFHS']\n",
      "55 [text:'Indonesia', number:6.9, text:'y', number:7.9, number:5.8, text:'-', text:'-', text:'-', text:'-', text:'-', text:'-', text:'-', number:2009.0, text:' Indonesia Child Labour Survey']\n",
      "56 [text:'Iran (Islamic Republic of)', number:11.4, text:'y', number:12.5, number:10.2, number:9.5, number:15.0, text:'-', text:'-', text:'-', text:'-', text:'-', number:2010.0, text:'MIDHS']\n",
      "57 [text:'Iraq', number:4.7, empty:'', number:5.4, number:4.0, number:3.3, number:7.6, number:7.9, number:5.0, number:3.7, number:3.8, number:1.8, number:2011.0, text:'MICS']\n",
      "58 [text:'Jamaica', number:3.3, empty:'', number:3.5, number:3.2, number:3.9, number:2.7, number:4.4, number:4.7, number:2.2, number:3.1, number:1.6, number:2011.0, text:'MICS']\n",
      "59 [text:'Jordan', number:1.6, text:'y', number:2.8, number:0.3, text:'-', text:'-', text:'-', text:'-', text:'-', text:'-', text:'-', number:2007.0, text:'Child Labour Survey']\n",
      "60 [text:'Kazakhstan', number:2.2, empty:'', number:2.4, number:2.1, number:2.5, number:1.9, number:1.8, number:2.1, number:2.8, number:2.4, number:2.2, number:2006.0, text:'MICS']\n",
      "61 [text:'Kenya', number:25.9, empty:'', number:26.5, number:25.2, text:'-', text:'-', text:'-', text:'-', text:'-', text:'-', text:'-', number:2000.0, text:'MICS']\n",
      "62 [text:'Kyrgyzstan', number:3.6, empty:'', number:4.3, number:2.9, number:1.9, number:4.5, number:1.9, number:3.7, number:4.7, number:5.0, number:2.8, number:2006.0, text:'MICS']\n",
      "63 [text:\"Lao People's Democratic Republic\", number:10.1, text:'y', number:9.0, number:11.2, text:'-', text:'-', text:'-', text:'-', text:'-', text:'-', text:'-', number:2010.0, text:'National Child Labour Survey ']\n",
      "64 [text:'Lebanon', number:1.9, empty:'', number:2.7, number:0.9, text:'-', text:'-', text:'-', text:'-', text:'-', text:'-', text:'-', number:2009.0, text:'MICS']\n",
      "65 [text:'Lesotho', number:22.9, empty:'', number:25.0, number:20.7, text:'-', text:'-', text:'-', text:'-', text:'-', text:'-', text:'-', number:2000.0, text:'MICS']\n",
      "66 [text:'Liberia', number:20.8, empty:'', number:21.1, number:20.5, number:15.7, number:24.0, number:26.9, number:25.3, number:21.2, number:18.4, number:13.5, number:2007.0, text:'DHS']\n",
      "67 [text:'Madagascar', number:22.9, text:'y', number:23.2, number:22.6, number:15.2, number:24.6, number:27.0, number:25.9, number:23.6, number:20.8, number:13.4, text:'2012-2013', text:'ENSOMD']\n",
      "68 [text:'Malawi', number:25.7, empty:'', number:25.3, number:26.2, number:13.9, number:27.7, number:26.3, number:29.8, number:29.3, number:26.2, number:18.0, number:2006.0, text:'MICS']\n",
      "69 [text:'Mali', number:21.4, empty:'', number:22.0, number:20.7, number:17.7, number:22.6, number:21.1, number:23.5, number:22.8, number:21.4, number:17.2, number:2010.0, text:'MICS']\n",
      "70 [text:'Mauritania', number:14.6, empty:'', number:14.3, number:14.9, number:7.5, number:16.6, number:25.3, number:18.3, number:10.9, number:8.6, number:4.8, number:2011.0, text:'MICS']\n",
      "71 [text:'Mexico', number:6.3, text:'y', number:7.3, number:5.3, number:5.1, number:8.0, text:'-', text:'-', text:'-', text:'-', text:'-', number:2011.0, text:'Modulo de Trabajo Infantil de la ENOE']\n",
      "72 [text:'Mongolia', number:10.4, empty:'', number:10.3, number:10.6, number:8.8, number:16.0, number:14.9, number:11.9, number:11.4, number:8.8, number:3.1, number:2010.0, text:'MICS']\n",
      "73 [text:'Montenegro', number:9.9, empty:'', number:11.7, number:7.8, number:5.5, number:16.5, number:23.7, number:8.7, number:4.8, number:6.4, number:3.2, number:2005.0, text:'MICS']\n",
      "74 [text:'Morocco', number:8.3, empty:'', number:9.1, number:7.5, number:3.5, number:13.3, number:17.7, number:9.6, number:5.0, number:3.2, number:1.9, text:'2006-2007', text:'ENIMSJ']\n",
      "75 [text:'Mozambique', number:22.2, empty:'', number:20.5, number:23.8, number:15.1, number:25.3, number:24.0, number:22.8, number:25.4, number:23.6, number:14.3, number:2008.0, text:'MICS']\n",
      "76 [text:'Nepal', number:33.9, text:'y', number:30.2, number:37.8, number:14.4, number:36.7, text:'-', text:'-', text:'-', text:'-', text:'-', number:2008.0, text:'Nepal Labour Force Survey']\n",
      "77 [text:'Nicaragua', number:14.5, empty:'', number:17.6, number:11.2, text:'-', text:'-', text:'-', text:'-', text:'-', text:'-', text:'-', number:2001.0, text:'DHS']\n",
      "78 [text:'Niger', number:30.5, empty:'', number:30.8, number:30.1, number:18.1, number:32.6, number:28.8, number:33.3, number:32.9, number:33.6, number:23.0, number:2012.0, text:'DHS']\n",
      "79 [text:'Nigeria', number:24.7, empty:'', number:24.1, number:25.3, number:18.7, number:27.6, number:28.5, number:28.2, number:25.3, number:22.3, number:17.8, number:2011.0, text:'MICS']\n",
      "80 [text:'Panama', number:5.6, text:'y', number:8.0, number:3.0, number:2.5, number:8.6, text:'-', text:'-', text:'-', text:'-', text:'-', number:2012.0, text:'ETI']\n",
      "81 [text:'Paraguay', number:27.6, text:'y', number:31.8, number:23.5, number:20.2, number:36.7, number:29.6, number:29.0, number:28.5, number:25.1, number:23.7, number:2011.0, text:'EANA']\n",
      "82 [text:'Peru', number:33.5, text:'y', number:30.6, number:36.3, number:18.2, number:60.9, text:'-', text:'-', text:'-', text:'-', text:'-', number:2007.0, text:'ESTI']\n",
      "83 [text:'Philippines', number:11.1, text:'y', number:14.1, number:7.9, text:'-', text:'-', text:'-', text:'-', text:'-', text:'-', text:'-', number:2011.0, text:'Survey on Children (prelim)']\n",
      "84 [text:'Portugal', number:3.4, text:'y', number:4.2, number:2.5, text:'-', text:'-', text:'-', text:'-', text:'-', text:'-', text:'-', number:2001.0, text:'Labour Force Survey, UCW calculations']\n",
      "85 [text:'Republic of Moldova', number:16.3, empty:'', number:20.2, number:12.3, text:'-', text:'-', text:'-', text:'-', text:'-', text:'-', text:'-', number:2009.0, text:\"Children''s Activities Survey\"]\n",
      "86 [text:'Romania', number:0.9, empty:'', number:1.2, number:0.7, text:'-', text:'-', text:'-', text:'-', text:'-', text:'-', text:'-', number:2000.0, text:'Household Labour Force Survey, UCW calculations']\n",
      "87 [text:'Rwanda', number:28.5, empty:'', number:26.7, number:30.4, number:18.7, number:29.8, number:33.3, number:30.9, number:29.4, number:29.4, number:18.3, number:2010.0, text:'DHS']\n",
      "88 [text:'Saint Lucia', number:3.9, empty:'', number:4.9, number:2.9, number:3.8, number:3.9, text:'-', text:'-', text:'-', text:'-', text:'-', number:2012.0, text:'MICS']\n",
      "89 [text:'Sao Tome and Principe', number:7.5, empty:'', number:7.7, number:7.2, number:5.7, number:9.7, number:8.3, number:9.4, number:8.8, number:6.7, number:3.9, number:2006.0, text:'MICS']\n",
      "90 [text:'Senegal', number:14.5, empty:'', number:19.0, number:10.0, number:5.1, number:19.8, number:29.7, number:18.8, number:8.8, number:6.3, number:4.5, text:'2012-2013', text:'Continuous DHS']\n",
      "91 [text:'Serbia', number:4.4, empty:'', number:4.5, number:4.4, number:3.3, number:5.7, number:8.4, number:5.5, number:2.9, number:2.7, number:2.6, number:2005.0, text:'MICS']\n",
      "92 [text:'Sierra Leone', number:26.0, empty:'', number:27.0, number:25.0, number:18.2, number:29.3, number:29.4, number:32.7, number:30.8, number:24.3, number:11.3, number:2010.0, text:'MICS']\n",
      "93 [text:'Somalia', number:49.0, empty:'', number:44.5, number:53.6, number:36.1, number:56.6, number:62.1, number:59.9, number:50.7, number:39.0, number:31.5, number:2006.0, text:'MICS']\n",
      "94 [text:'State of Palestine', number:5.7, empty:'', number:7.4, number:4.0, number:4.8, number:10.1, number:8.0, number:5.2, number:5.2, number:5.2, number:4.8, number:2010.0, text:'MICS']\n",
      "95 [text:'Suriname', number:4.1, empty:'', number:4.1, number:4.1, number:2.5, number:6.9, number:7.9, number:2.7, number:3.5, number:2.1, number:1.6, number:2010.0, text:'MICS']\n",
      "96 [text:'Swaziland', number:7.3, empty:'', number:7.7, number:6.9, number:6.6, number:7.5, number:9.9, number:6.9, number:8.1, number:5.4, number:5.2, number:2010.0, text:'MICS']\n",
      "97 [text:'Syrian Arab Republic', number:4.0, empty:'', number:5.0, number:3.0, number:2.6, number:5.5, number:6.7, number:5.2, number:3.3, number:2.9, number:1.6, number:2006.0, text:'MICS']\n",
      "98 [text:'Tajikistan', number:10.0, empty:'', number:9.4, number:10.6, number:8.1, number:10.6, number:13.6, number:12.2, number:9.0, number:8.0, number:6.0, number:2005.0, text:'MICS']\n",
      "99 [text:'Thailand', number:8.3, empty:'', number:8.3, number:8.2, number:8.0, number:8.4, number:8.6, number:8.5, number:9.0, number:8.1, number:7.0, number:2006.0, text:'MICS']\n",
      "100 [text:'The former Yugoslav Republic of Macedonia', number:12.5, empty:'', number:12.1, number:13.0, number:8.4, number:16.8, number:20.4, number:12.5, number:14.4, number:8.0, number:6.6, number:2011.0, text:'MICS']\n",
      "101 [text:'Timor-Leste', number:4.2, empty:'', number:4.1, number:4.4, text:'-', text:'-', text:'-', text:'-', text:'-', text:'-', text:'-', number:2002.0, text:'MICS']\n",
      "102 [text:'Togo', number:28.3, empty:'', number:27.7, number:28.9, number:18.3, number:32.7, number:35.1, number:31.6, number:32.7, number:18.8, number:17.5, number:2010.0, text:'MICS']\n",
      "103 [text:'Trinidad and Tobago', number:0.7, empty:'', number:0.7, number:0.6, text:'-', text:'-', number:1.2, number:0.6, number:0.9, number:0.4, number:0.0, number:2006.0, text:'MICS']\n",
      "104 [text:'Tunisia', number:2.1, empty:'', number:2.6, number:1.6, number:1.5, number:3.3, number:2.7, number:2.6, number:1.1, number:1.5, number:2.6, text:'2011-2012', text:'MICS']\n",
      "105 [text:'Turkey', number:5.9, text:'y', number:7.9, number:3.7, number:3.9, number:9.7, text:'-', text:'-', text:'-', text:'-', text:'-', number:2012.0, text:'Child Labour Force Survey']\n",
      "106 [text:'Uganda', number:16.3, text:'y', number:16.9, number:15.6, number:8.8, number:17.4, text:'-', text:'-', text:'-', text:'-', text:'-', text:'2011/2012', text:'National Labour Force and Child Activities Survey']\n",
      "107 [text:'Ukraine', number:2.4, empty:'', number:2.5, number:2.4, number:1.6, number:4.3, number:4.6, number:3.3, number:1.9, number:2.5, number:0.2, number:2012.0, text:'MICS']\n",
      "108 [text:'United Republic of Tanzania', number:21.1, text:'y', number:23.3, number:18.8, number:14.8, number:25.2, text:'-', text:'-', text:'-', text:'-', text:'-', number:2006.0, text:'Integrated Labour Force Survey']\n",
      "109 [text:'Uruguay', number:7.9, text:'y', number:8.3, number:7.5, text:'-', text:'-', text:'-', text:'-', text:'-', text:'-', text:'-', number:2006.0, text:'ENHA']\n",
      "110 [text:'Venezuela (Bolivarian Republic of)', number:7.7, empty:'', number:9.2, number:6.2, text:'-', text:'-', text:'-', text:'-', text:'-', text:'-', text:'-', number:2000.0, text:'MICS']\n",
      "111 [text:'Viet Nam', number:6.9, empty:'', number:6.5, number:7.4, number:4.1, number:7.9, number:11.9, number:9.6, number:5.1, number:3.7, number:2.3, number:2011.0, text:'MICS']\n",
      "112 [text:'Yemen', number:22.7, empty:'', number:21.1, number:24.4, number:8.1, number:28.6, number:36.8, number:28.5, number:22.7, number:13.6, number:10.2, number:2006.0, text:'MICS']\n",
      "113 [text:'Zambia', number:40.6, text:'y', number:41.6, number:39.5, number:9.2, number:56.0, text:'-', text:'-', text:'-', text:'-', text:'-', number:2005.0, text:'Other National Survey, UCW calculations']\n",
      "114 [empty:'', empty:'', empty:'', empty:'', empty:'', empty:'', empty:'', empty:'', empty:'', empty:'', empty:'', empty:'', empty:'', empty:'']\n",
      "115 [text:'Sub-Saharan Africa', number:24.971247439998038, empty:'', number:25.360921492010025, number:24.54592292310616, text:'–', text:'–', text:'–', text:'–', text:'–', text:'–', text:'–', empty:'', empty:'']\n",
      "116 [text:'Eastern and Southern Africa', number:25.260535889918042, empty:'', number:26.52655776473469, number:23.914511793758958, text:'–', text:'–', text:'–', text:'–', text:'–', text:'–', text:'–', empty:'', empty:'']\n",
      "117 [text:'West and Central Africa', number:24.79921828162676, empty:'', number:24.593858857812133, number:25.01060717034784, text:'–', text:'–', text:'–', text:'–', text:'–', text:'–', text:'–', empty:'', empty:'']\n",
      "118 [text:'Middle East and North Africa', number:8.908409240697537, empty:'', number:10.601358130447883, number:7.139944708092362, text:'–', text:'–', text:'–', text:'–', text:'–', text:'–', text:'–', empty:'', empty:'']\n",
      "119 [text:'South Asia', number:12.367478968427415, empty:'', number:12.62776670207997, number:12.00494487622905, text:'–', text:'–', text:'–', text:'–', text:'–', text:'–', text:'–', empty:'', empty:'']\n",
      "120 [text:'East Asia and Pacific', number:8.395057888152063, text:'**', number:9.517664037077507, number:7.178416066469366, text:'–', text:'–', text:'–', text:'–', text:'–', text:'–', text:'–', empty:'', empty:'']\n",
      "121 [text:'Latin America and Caribbean', number:10.977444542743939, empty:'', number:13.125494516092125, number:9.131198495063732, text:'–', text:'–', text:'–', text:'–', text:'–', text:'–', text:'–', empty:'', empty:'']\n",
      "122 [text:'CEE/CIS', number:5.420397937973456, empty:'', number:6.539194669306934, number:4.213870248951129, text:'–', text:'–', text:'–', text:'–', text:'–', text:'–', text:'–', empty:'', empty:'']\n",
      "123 [text:'Least developed countries', number:21.6656626531534, empty:'', number:22.785449314907545, number:20.51783765989917, text:'–', text:'–', text:'–', text:'–', text:'–', text:'–', text:'–', empty:'', empty:'']\n",
      "124 [text:'World', number:12.631385083612308, text:'**', number:13.468450007390524, number:11.74769381493197, text:'–', text:'–', text:'–', text:'–', text:'–', text:'–', text:'–', empty:'', empty:'']\n",
      "125 [empty:'', empty:'', empty:'', empty:'', empty:'', empty:'', empty:'', empty:'', empty:'', empty:'', empty:'', empty:'', empty:'', empty:'']\n",
      "126 [text:'– Data not available', empty:'', empty:'', empty:'', empty:'', empty:'', empty:'', empty:'', empty:'', empty:'', empty:'', empty:'', empty:'', empty:'']\n",
      "127 [text:'y Data differ from the standard definition or refer to only part of a country. ', empty:'', empty:'', empty:'', empty:'', empty:'', empty:'', empty:'', empty:'', empty:'', empty:'', empty:'', empty:'', empty:'']\n",
      "128 [text:'** Excludes China.', empty:'', empty:'', empty:'', empty:'', empty:'', empty:'', empty:'', empty:'', empty:'', empty:'', empty:'', empty:'', empty:'']\n",
      "129 [empty:'', empty:'', empty:'', empty:'', empty:'', empty:'', empty:'', empty:'', empty:'', empty:'', empty:'', empty:'', empty:'', empty:'']\n",
      "130 [text:'Indicator definition: Percentage of children 5–14 years old involved in child labour at the moment of the survey. A child is considered to be involved in child labour under the following conditions: (a) children 5–11 years old who, during the reference week, did at least one hour of economic activity or at least 28 hours of household chores, or (b) children 12–14 years old who, during the reference week, did at least 14 hours of economic activity or at least 28 hours of household chores.', empty:'', empty:'', empty:'', empty:'', empty:'', empty:'', empty:'', empty:'', empty:'', empty:'', empty:'', empty:'', empty:'']\n",
      "131 [empty:'', empty:'', empty:'', empty:'', empty:'', empty:'', empty:'', empty:'', empty:'', empty:'', empty:'', empty:'', empty:'', empty:'']\n",
      "132 [text:'Notes: Data from the fourth round of MICS (MICS4, 2009–2012) included in the table have been recalculated according to the indicator definition used in MICS3 surveys, to ensure cross-country comparability. In this definition, the activities of fetching water or collecting firewood are classified as household chores rather than as an economic activity. Under this approach, a child between the ages of 5–14 years old would have to be engaged in fetching water or collecting firewood for at least 28 hours per week to be considered as a child labourer.', empty:'', empty:'', empty:'', empty:'', empty:'', empty:'', empty:'', empty:'', empty:'', empty:'', empty:'', empty:'', empty:'']\n",
      "133 [text:'Source: UNICEF global databases, 2014, based on DHS, MICS and other nationally representative surveys.', empty:'', empty:'', empty:'', empty:'', empty:'', empty:'', empty:'', empty:'', empty:'', empty:'', empty:'', empty:'', empty:'']\n"
     ]
    }
   ],
   "source": [
    "run chapter9.py"
   ]
  },
  {
   "cell_type": "code",
   "execution_count": 20,
   "metadata": {},
   "outputs": [
    {
     "name": "stdout",
     "output_type": "stream",
     "text": [
      "[('', 'Countries and areas'), ('Total (%)', ''), ('', ''), ('Sex (%)', 'Male'), ('', 'Female'), ('Place of residence (%)', 'Urban'), ('', 'Rural'), ('Household wealth quintile (%)', 'Poorest'), ('', 'Second'), ('', 'Middle'), ('', 'Fourth'), ('', 'Richest'), ('Reference Year', ''), ('Data Source', '')]\n"
     ]
    }
   ],
   "source": [
    "title_rows = list(zip(sheet.row_values(4),sheet.row_values(5)))\n",
    "print(title_rows)"
   ]
  },
  {
   "cell_type": "code",
   "execution_count": 23,
   "metadata": {},
   "outputs": [
    {
     "name": "stdout",
     "output_type": "stream",
     "text": [
      "[' Countries and areas', 'Total (%) ', ' ', 'Sex (%) Male', ' Female', 'Place of residence (%) Urban', ' Rural', 'Household wealth quintile (%) Poorest', ' Second', ' Middle', ' Fourth', ' Richest', 'Reference Year ', 'Data Source ']\n"
     ]
    }
   ],
   "source": [
    "titles = [t[0] +  ' ' + t[1] for t in title_rows]\n",
    "print(titles)"
   ]
  },
  {
   "cell_type": "code",
   "execution_count": null,
   "metadata": {},
   "outputs": [],
   "source": []
  }
 ],
 "metadata": {
  "kernelspec": {
   "display_name": "Python 3",
   "language": "python",
   "name": "python3"
  },
  "language_info": {
   "codemirror_mode": {
    "name": "ipython",
    "version": 3
   },
   "file_extension": ".py",
   "mimetype": "text/x-python",
   "name": "python",
   "nbconvert_exporter": "python",
   "pygments_lexer": "ipython3",
   "version": "3.7.0"
  }
 },
 "nbformat": 4,
 "nbformat_minor": 2
}
